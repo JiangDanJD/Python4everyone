{
 "cells": [
  {
   "cell_type": "markdown",
   "metadata": {},
   "source": [
    "# Using Database with Python"
   ]
  },
  {
   "cell_type": "code",
   "execution_count": null,
   "metadata": {},
   "outputs": [],
   "source": [
    "CREATE TABLE Users(\n",
    "    name VARCHAR(128),\n",
    "    email VARCHAR(128)\n",
    ")"
   ]
  },
  {
   "cell_type": "markdown",
   "metadata": {},
   "source": [
    "Insert Values:"
   ]
  },
  {
   "cell_type": "code",
   "execution_count": null,
   "metadata": {},
   "outputs": [],
   "source": [
    "INSERT INTO Users(name,email) VALUES('James', 'james@umich.edu')"
   ]
  },
  {
   "cell_type": "markdown",
   "metadata": {},
   "source": [
    "SQL Delete \n"
   ]
  },
  {
   "cell_type": "code",
   "execution_count": null,
   "metadata": {},
   "outputs": [],
   "source": [
    "DELETE FROM Users WHERE email='ted@umich.edu'"
   ]
  },
  {
   "cell_type": "markdown",
   "metadata": {},
   "source": [
    "SQL: Update"
   ]
  },
  {
   "cell_type": "code",
   "execution_count": null,
   "metadata": {},
   "outputs": [],
   "source": [
    "UPDATE Users SET name='Kate' WHERE email='kate@umich.edu'"
   ]
  },
  {
   "cell_type": "markdown",
   "metadata": {},
   "source": [
    "SQL: Select"
   ]
  },
  {
   "cell_type": "code",
   "execution_count": null,
   "metadata": {},
   "outputs": [],
   "source": [
    "SELECT * FROM Users"
   ]
  },
  {
   "cell_type": "markdown",
   "metadata": {},
   "source": [
    "Sorting with ORDER BY"
   ]
  },
  {
   "cell_type": "code",
   "execution_count": null,
   "metadata": {},
   "outputs": [],
   "source": [
    "SELECT * FROM Users ORDER BY email"
   ]
  },
  {
   "cell_type": "code",
   "execution_count": 10,
   "metadata": {},
   "outputs": [
    {
     "name": "stdout",
     "output_type": "stream",
     "text": [
      "Enter file name: mbox-short.txt\n",
      "cwen@iupui.edu 5\n",
      "zqian@umich.edu 4\n",
      "david.horwitz@uct.ac.za 4\n",
      "louis@media.berkeley.edu 3\n",
      "gsilver@umich.edu 3\n",
      "stephen.marquard@uct.ac.za 2\n",
      "rjlowe@iupui.edu 2\n",
      "wagnermr@iupui.edu 1\n",
      "antranig@caret.cam.ac.uk 1\n",
      "gopal.ramasammycook@gmail.com 1\n"
     ]
    }
   ],
   "source": [
    "import sqlite3\n",
    "\n",
    "conn=sqlite3.connect('emaildb.sqlite') # create the file\n",
    "cur=conn.cursor()\n",
    "\n",
    "cur.execute('''\n",
    "DROP TABLE IF EXISTS Counts''')\n",
    "\n",
    "cur.execute('''\n",
    "CREATE TABLE Counts(email TEXT, count INTEGER)''')\n",
    "\n",
    "fname=input('Enter file name: ')\n",
    "if(len(fname)<1):fname ='mbox-short.txt'\n",
    "fh=open(fname)\n",
    "for line in fh:\n",
    "    if not line.startswith('From: '): continue\n",
    "    pieces=line.split()\n",
    "    email=pieces[1]\n",
    "    cur.execute('SELECT count FROM Counts WHERE email = ?', (email,))\n",
    "    row=cur.fetchone()\n",
    "    if row is None:\n",
    "        cur.execute('INSERT INTO Counts(email,count) VALUES(?,1)',(email,))\n",
    "    else:\n",
    "        cur.execute('UPDATE Counts SET count = count+1 WHERE email=?',(email,))\n",
    "    conn.commit()\n",
    "sqlstr = 'SELECT email, count FROM Counts ORDER BY count DESC LIMIT 10'\n",
    "for row in cur.execute(sqlstr):\n",
    "    print(str(row[0]),row[1])\n",
    "cur.close()"
   ]
  },
  {
   "cell_type": "code",
   "execution_count": null,
   "metadata": {},
   "outputs": [],
   "source": [
    "CREATE TABLE Ages ( \n",
    "  name VARCHAR(128), \n",
    "  age INTEGER\n",
    ")\n",
    "\n",
    "\n",
    "DELETE FROM Ages;\n",
    "INSERT INTO Ages (name, age) VALUES ('Adenn', 24);\n",
    "INSERT INTO Ages (name, age) VALUES ('Colby', 36);\n",
    "INSERT INTO Ages (name, age) VALUES ('Aila', 16);\n",
    "INSERT INTO Ages (name, age) VALUES ('Dilan', 37);\n",
    "\n",
    "SELECT hex(name || age) AS X FROM Ages ORDER BY X"
   ]
  },
  {
   "cell_type": "code",
   "execution_count": 28,
   "metadata": {},
   "outputs": [
    {
     "name": "stdout",
     "output_type": "stream",
     "text": [
      "Enter file name: mbox.txt\n",
      "iupui.edu\n",
      " 536\n",
      "umich.edu\n",
      " 491\n",
      "indiana.edu\n",
      " 178\n",
      "caret.cam.ac.uk\n",
      " 157\n",
      "vt.edu\n",
      " 110\n",
      "uct.ac.za\n",
      " 96\n",
      "media.berkeley.edu\n",
      " 56\n",
      "ufp.pt\n",
      " 28\n",
      "gmail.com\n",
      " 25\n",
      "et.gatech.edu\n",
      " 17\n",
      "txstate.edu\n",
      " 17\n",
      "whitman.edu\n",
      " 17\n",
      "lancaster.ac.uk\n",
      " 14\n",
      "bu.edu\n",
      " 14\n",
      "stanford.edu\n",
      " 12\n",
      "unicon.net\n",
      " 9\n",
      "loi.nl\n",
      " 9\n",
      "rsmart.com\n",
      " 8\n",
      "ucdavis.edu\n",
      " 1\n",
      "fhda.edu\n",
      " 1\n",
      "utoronto.ca\n",
      " 1\n"
     ]
    }
   ],
   "source": [
    "import sqlite3\n",
    "\n",
    "conn=sqlite3.connect('orgdb.sqlite') # create the file\n",
    "cur=conn.cursor()\n",
    "\n",
    "cur.execute('''\n",
    "DROP TABLE IF EXISTS Counts''')\n",
    "\n",
    "cur.execute('''\n",
    "CREATE TABLE Counts(org TEXT, count INTEGER)''')\n",
    "\n",
    "fname=input('Enter file name: ')\n",
    "if(len(fname)<1):fname ='mbox.txt'\n",
    "fh=open(fname)\n",
    "for line in fh:\n",
    "    if not (line.startswith('From: ')): continue\n",
    "    org=line.split('@',1)[1]\n",
    "    cur.execute('SELECT count FROM Counts WHERE org = ?', (org,))\n",
    "    row=cur.fetchone()\n",
    "    if row is None:\n",
    "        cur.execute('INSERT INTO Counts(org,count) VALUES(?,1)',(org,))\n",
    "    else:\n",
    "        cur.execute('UPDATE Counts SET count = count+1 WHERE org=?',(org,))\n",
    "    \n",
    "conn.commit()    \n",
    "sqlstr = 'SELECT org, count FROM Counts ORDER BY count DESC'\n",
    "for row in cur.execute(sqlstr):\n",
    "    print(str(row[0]),row[1])\n",
    "\n",
    "cur.close()\n"
   ]
  },
  {
   "cell_type": "code",
   "execution_count": null,
   "metadata": {},
   "outputs": [],
   "source": [
    "CREATE TABLE Album(\n",
    "\tid INTEGER NOT NULL PRIMARY KEY AUTOINCREMENT UNIQUE,\n",
    "\tname TEXT\n",
    ")"
   ]
  },
  {
   "cell_type": "code",
   "execution_count": null,
   "metadata": {},
   "outputs": [],
   "source": [
    "CREATE TABLE Track(\n",
    "\tid INTEGER NOT NULL PRIMARY KEY AUTOINCREMENT UNIQUE,\n",
    "\ttitle TEXT,\n",
    "\talbum_id INTEGER,\n",
    "\tgenre_id INTEGER,\n",
    "\tlen INTEGER, rating INTERGER, count INTEGER\n",
    ")\n",
    "insert into Artist(name) values(\"Led Zepplin\");\n",
    "insert into Artist(name) values(\"AC/DC\");\n",
    "insert into Genre(name) values(\"Rock\");\n",
    "insert into Genre(name) values(\"Metal\")"
   ]
  },
  {
   "cell_type": "markdown",
   "metadata": {},
   "source": [
    "Reconsctructing Data with JOIN"
   ]
  },
  {
   "cell_type": "code",
   "execution_count": null,
   "metadata": {},
   "outputs": [],
   "source": [
    "select Album.title, Artist.name from Album join Artist on Album.artist_id=Artist.id"
   ]
  },
  {
   "cell_type": "code",
   "execution_count": null,
   "metadata": {},
   "outputs": [],
   "source": [
    "select Track.title, Genre.name from Track join Genre on Track.genre_id=Genre.id"
   ]
  },
  {
   "cell_type": "code",
   "execution_count": null,
   "metadata": {},
   "outputs": [],
   "source": [
    "select Track.title, Album.title, Artist.name FROM Track JOIN Album JOIN Artist ON Track.album_id=Album.id AND Album.artist_id=Artist.id"
   ]
  }
 ],
 "metadata": {
  "coursera": {
   "course_slug": "python-machine-learning",
   "graded_item_id": "f9SY5",
   "launcher_item_id": "oxndk",
   "part_id": "mh1Vo"
  },
  "kernelspec": {
   "display_name": "Python 3",
   "language": "python",
   "name": "python3"
  },
  "language_info": {
   "codemirror_mode": {
    "name": "ipython",
    "version": 3
   },
   "file_extension": ".py",
   "mimetype": "text/x-python",
   "name": "python",
   "nbconvert_exporter": "python",
   "pygments_lexer": "ipython3",
   "version": "3.6.2"
  }
 },
 "nbformat": 4,
 "nbformat_minor": 1
}
